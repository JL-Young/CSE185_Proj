{
 "cells": [
  {
   "cell_type": "code",
   "execution_count": 6,
   "metadata": {},
   "outputs": [
    {
     "name": "stdout",
     "output_type": "stream",
     "text": [
      "Collecting leidenalg\n",
      "  Downloading leidenalg-0.10.2-cp38-abi3-win_amd64.whl.metadata (10 kB)\n",
      "Requirement already satisfied: igraph<0.12,>=0.10.0 in c:\\users\\jeyas\\appdata\\local\\programs\\python\\python312\\lib\\site-packages (from leidenalg) (0.11.5)\n",
      "Requirement already satisfied: texttable>=1.6.2 in c:\\users\\jeyas\\appdata\\local\\programs\\python\\python312\\lib\\site-packages (from igraph<0.12,>=0.10.0->leidenalg) (1.7.0)\n",
      "Downloading leidenalg-0.10.2-cp38-abi3-win_amd64.whl (1.6 MB)\n",
      "   ---------------------------------------- 0.0/1.6 MB ? eta -:--:--\n",
      "   ---------------------------------------- 0.0/1.6 MB ? eta -:--:--\n",
      "   ---------------------------------------- 0.0/1.6 MB ? eta -:--:--\n",
      "   - -------------------------------------- 0.0/1.6 MB 667.8 kB/s eta 0:00:03\n",
      "   ---- ----------------------------------- 0.2/1.6 MB 1.8 MB/s eta 0:00:01\n",
      "   --------- ------------------------------ 0.4/1.6 MB 2.4 MB/s eta 0:00:01\n",
      "   --------------- ------------------------ 0.6/1.6 MB 3.2 MB/s eta 0:00:01\n",
      "   ------------------------- -------------- 1.0/1.6 MB 4.2 MB/s eta 0:00:01\n",
      "   -------------------------------- ------- 1.3/1.6 MB 4.8 MB/s eta 0:00:01\n",
      "   ---------------------------------------  1.6/1.6 MB 5.0 MB/s eta 0:00:01\n",
      "   ---------------------------------------- 1.6/1.6 MB 4.8 MB/s eta 0:00:00\n",
      "Installing collected packages: leidenalg\n",
      "Successfully installed leidenalg-0.10.2\n"
     ]
    }
   ],
   "source": [
    "#!pip3 install igraph\n",
    "!pip install leidenalg"
   ]
  },
  {
   "cell_type": "code",
   "execution_count": 13,
   "metadata": {},
   "outputs": [],
   "source": [
    "import tsKNEE \n",
    "import scanpy as sc\n",
    "import leidenalg"
   ]
  },
  {
   "cell_type": "code",
   "execution_count": 16,
   "metadata": {},
   "outputs": [
    {
     "name": "stderr",
     "output_type": "stream",
     "text": [
      "'pwd' is not recognized as an internal or external command,\n",
      "operable program or batch file.\n"
     ]
    }
   ],
   "source": [
    "!pwd"
   ]
  },
  {
   "cell_type": "code",
   "execution_count": 15,
   "metadata": {},
   "outputs": [],
   "source": [
    "adata = sc.read_h5ad(\"../test_data/test_data1.h5ad\")\n",
    "sc.pp.neighbors(adata)\n",
    "sc.tl.leiden(adata)    \n",
    "tsKNEE.tsKNEE(adata)"
   ]
  }
 ],
 "metadata": {
  "kernelspec": {
   "display_name": "Python 3",
   "language": "python",
   "name": "python3"
  },
  "language_info": {
   "codemirror_mode": {
    "name": "ipython",
    "version": 3
   },
   "file_extension": ".py",
   "mimetype": "text/x-python",
   "name": "python",
   "nbconvert_exporter": "python",
   "pygments_lexer": "ipython3",
   "version": "3.12.3"
  }
 },
 "nbformat": 4,
 "nbformat_minor": 2
}
