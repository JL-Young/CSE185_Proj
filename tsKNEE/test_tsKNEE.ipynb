{
 "cells": [
  {
   "cell_type": "code",
   "execution_count": 6,
   "metadata": {},
   "outputs": [
    {
     "name": "stdout",
     "output_type": "stream",
     "text": [
      "Collecting leidenalg\n",
      "  Downloading leidenalg-0.10.2-cp38-abi3-win_amd64.whl.metadata (10 kB)\n",
      "Requirement already satisfied: igraph<0.12,>=0.10.0 in c:\\users\\jeyas\\appdata\\local\\programs\\python\\python312\\lib\\site-packages (from leidenalg) (0.11.5)\n",
      "Requirement already satisfied: texttable>=1.6.2 in c:\\users\\jeyas\\appdata\\local\\programs\\python\\python312\\lib\\site-packages (from igraph<0.12,>=0.10.0->leidenalg) (1.7.0)\n",
      "Downloading leidenalg-0.10.2-cp38-abi3-win_amd64.whl (1.6 MB)\n",
      "   ---------------------------------------- 0.0/1.6 MB ? eta -:--:--\n",
      "   ---------------------------------------- 0.0/1.6 MB ? eta -:--:--\n",
      "   ---------------------------------------- 0.0/1.6 MB ? eta -:--:--\n",
      "   - -------------------------------------- 0.0/1.6 MB 667.8 kB/s eta 0:00:03\n",
      "   ---- ----------------------------------- 0.2/1.6 MB 1.8 MB/s eta 0:00:01\n",
      "   --------- ------------------------------ 0.4/1.6 MB 2.4 MB/s eta 0:00:01\n",
      "   --------------- ------------------------ 0.6/1.6 MB 3.2 MB/s eta 0:00:01\n",
      "   ------------------------- -------------- 1.0/1.6 MB 4.2 MB/s eta 0:00:01\n",
      "   -------------------------------- ------- 1.3/1.6 MB 4.8 MB/s eta 0:00:01\n",
      "   ---------------------------------------  1.6/1.6 MB 5.0 MB/s eta 0:00:01\n",
      "   ---------------------------------------- 1.6/1.6 MB 4.8 MB/s eta 0:00:00\n",
      "Installing collected packages: leidenalg\n",
      "Successfully installed leidenalg-0.10.2\n"
     ]
    }
   ],
   "source": [
    "# !pip3 install igraph\n",
    "!pip install leidenalg"
   ]
  },
  {
   "cell_type": "code",
   "execution_count": 10,
   "metadata": {},
   "outputs": [],
   "source": [
    "import tsKNEE \n",
    "import scanpy as sc\n",
    "import leidenalg"
   ]
  },
  {
   "cell_type": "code",
   "execution_count": 6,
   "metadata": {},
   "outputs": [
    {
     "name": "stdout",
     "output_type": "stream",
     "text": [
      "/mnt/c/Users/jeyas/CSE185_Proj/tsKNEE\n"
     ]
    }
   ],
   "source": [
    "%%bash\n",
    "pwd"
   ]
  },
  {
   "cell_type": "code",
   "execution_count": 8,
   "metadata": {},
   "outputs": [
    {
     "name": "stdout",
     "output_type": "stream",
     "text": [
      "WARNING: You’re trying to run this on 942 dimensions of `.X`, if you really want this, set `use_rep='X'`.\n",
      "         Falling back to preprocessing with `sc.pp.pca` and default params.\n"
     ]
    },
    {
     "name": "stderr",
     "output_type": "stream",
     "text": [
      "C:\\Users\\jeyas\\AppData\\Local\\Temp\\ipykernel_19180\\1851038271.py:3: FutureWarning: In the future, the default backend for leiden will be igraph instead of leidenalg.\n",
      "\n",
      " To achieve the future defaults please pass: flavor=\"igraph\" and n_iterations=2.  directed must also be False to work with igraph's implementation.\n",
      "  sc.tl.leiden(adata)\n"
     ]
    },
    {
     "data": {
      "text/plain": [
       "array([[-32.25993679,  30.94952653],\n",
       "       [ 23.34796246,  -3.9969406 ],\n",
       "       [ -5.7075242 ,  12.9985223 ],\n",
       "       [-13.54707954,   4.99940715],\n",
       "       [ -3.09414619,  -3.31582105],\n",
       "       [-28.78904332,  -4.5447662 ],\n",
       "       [  4.49568531,  -7.82157529],\n",
       "       [-40.66271713,  25.79256239],\n",
       "       [ -4.67300062,   4.47428705],\n",
       "       [-29.84312229,   7.28824263],\n",
       "       [-25.25901332,  13.63699368],\n",
       "       [ 31.84835914,   6.92574879],\n",
       "       [-28.55270682, -19.44219536],\n",
       "       [ -7.42229345, -21.62340759],\n",
       "       [-12.26840632,  16.83094686],\n",
       "       [-17.37096325,  24.35301309],\n",
       "       [-24.87032965,  29.4529769 ],\n",
       "       [ 23.86159707, -29.63363051],\n",
       "       [-11.52443371,  -2.09514983],\n",
       "       [ 36.3599852 ,   1.74082203],\n",
       "       [ 43.55887894,   3.65475299],\n",
       "       [-32.84052123,  16.88033851],\n",
       "       [ 31.3490969 ,  14.04826988],\n",
       "       [-30.80428138,  23.3347932 ],\n",
       "       [ 22.95217758, -20.69427265],\n",
       "       [ 16.43479323, -14.54041608],\n",
       "       [ 11.7239237 , -21.32853555],\n",
       "       [  1.1063813 ,  18.59537105],\n",
       "       [ 17.27920807,  26.65021805],\n",
       "       [-16.88212188,  11.18968177],\n",
       "       [-23.87914379,  20.39733856],\n",
       "       [  7.20942341, -28.99855412],\n",
       "       [ 31.35018134, -25.00308815],\n",
       "       [ 14.1384676 ,  -6.18742674],\n",
       "       [ 43.28634331,  -4.70259619],\n",
       "       [ 24.95860154,   3.47151627],\n",
       "       [ 24.57723432,  10.16054991],\n",
       "       [ 29.86805046,  -0.4052557 ],\n",
       "       [ 17.7016699 ,   1.97591578],\n",
       "       [ 18.22287198, -34.02103103],\n",
       "       [ 17.72942151, -25.32561492],\n",
       "       [-10.73372405,  -9.33050785],\n",
       "       [ 31.2858854 , -13.91462367],\n",
       "       [ 38.3222045 , -14.41928597],\n",
       "       [-19.84836843,  -5.52608001],\n",
       "       [  8.11454582,  15.79047222],\n",
       "       [  6.4105095 , -14.59017277],\n",
       "       [ 14.22649493,  11.17533001],\n",
       "       [ -6.34098779,  21.8939915 ],\n",
       "       [ -0.24300776, -20.32311233],\n",
       "       [-47.26207175,  12.36487227],\n",
       "       [ 29.57728558,  -6.93533666],\n",
       "       [-46.97164227,  19.33907523],\n",
       "       [-22.55893676,   4.64907947],\n",
       "       [ -2.330302  , -12.71998151],\n",
       "       [ 23.71286971, -13.12569717],\n",
       "       [-36.57016111, -18.81807678],\n",
       "       [-29.78791895, -11.87086256],\n",
       "       [  8.2529337 ,   6.12230364],\n",
       "       [ 36.32735661,  -5.00088887],\n",
       "       [-18.47753827, -12.84538399],\n",
       "       [  1.71176902,  11.31186508],\n",
       "       [ 29.13530281,  28.41024533],\n",
       "       [-45.29558066, -13.35449562],\n",
       "       [-35.23661211,  -0.39781191],\n",
       "       [-11.93620161, -16.14485654],\n",
       "       [  2.42781054,   1.86340674],\n",
       "       [-37.78426186,  -9.42697699],\n",
       "       [ 38.76347528,   9.70170199]])"
      ]
     },
     "execution_count": 8,
     "metadata": {},
     "output_type": "execute_result"
    }
   ],
   "source": [
    "adata = sc.read_h5ad(\"../test_data/test_data1.h5ad\")\n",
    "sc.pp.neighbors(adata)\n",
    "sc.tl.leiden(adata)    \n",
    "tsKNEE.tsKNEE(adata)"
   ]
  },
  {
   "cell_type": "code",
   "execution_count": 9,
   "metadata": {},
   "outputs": [
    {
     "ename": "NameError",
     "evalue": "name 'coors' is not defined",
     "output_type": "error",
     "traceback": [
      "\u001b[1;31m---------------------------------------------------------------------------\u001b[0m",
      "\u001b[1;31mNameError\u001b[0m                                 Traceback (most recent call last)",
      "Cell \u001b[1;32mIn[9], line 1\u001b[0m\n\u001b[1;32m----> 1\u001b[0m \u001b[43mtsKNEE\u001b[49m\u001b[38;5;241;43m.\u001b[39;49m\u001b[43mtsKNEE_plot\u001b[49m\u001b[43m(\u001b[49m\u001b[43madata\u001b[49m\u001b[43m)\u001b[49m\n",
      "File \u001b[1;32mc:\\Users\\jeyas\\CSE185_Proj\\tsKNEE\\tsKNEE.py:105\u001b[0m, in \u001b[0;36mtsKNEE_plot\u001b[1;34m(adata, coor, perp, xlabel, ylabel, title, save)\u001b[0m\n\u001b[0;32m    101\u001b[0m     \u001b[38;5;28;01mraise\u001b[39;00m \u001b[38;5;167;01mException\u001b[39;00m(\u001b[38;5;124m\"\u001b[39m\u001b[38;5;124mAnndata object is not clustered with Leiden or the Leiden cluster values are not stored in a column named leiden in adata.obs.\u001b[39m\u001b[38;5;124m\"\u001b[39m)\n\u001b[0;32m    102\u001b[0m \u001b[38;5;66;03m# if coor = NONE: \u001b[39;00m\n\u001b[0;32m    103\u001b[0m \u001b[38;5;66;03m#     coor = tsKNEE(adata, perp)\u001b[39;00m\n\u001b[1;32m--> 105\u001b[0m plt\u001b[38;5;241m.\u001b[39mscatter(\u001b[43mcoors\u001b[49m[:,\u001b[38;5;241m0\u001b[39m], coors[:,\u001b[38;5;241m1\u001b[39m], c \u001b[38;5;241m=\u001b[39m adata\u001b[38;5;241m.\u001b[39mobs[\u001b[38;5;124m\"\u001b[39m\u001b[38;5;124mleiden\u001b[39m\u001b[38;5;124m\"\u001b[39m])\n\u001b[0;32m    106\u001b[0m plt\u001b[38;5;241m.\u001b[39mxlabel(xlabel)\n\u001b[0;32m    107\u001b[0m plt\u001b[38;5;241m.\u001b[39mylabel(ylabel)\n",
      "\u001b[1;31mNameError\u001b[0m: name 'coors' is not defined"
     ]
    }
   ],
   "source": [
    "tsKNEE.tsKNEE_plot(adata,)"
   ]
  }
 ],
 "metadata": {
  "kernelspec": {
   "display_name": "Python 3",
   "language": "python",
   "name": "python3"
  },
  "language_info": {
   "codemirror_mode": {
    "name": "ipython",
    "version": 3
   },
   "file_extension": ".py",
   "mimetype": "text/x-python",
   "name": "python",
   "nbconvert_exporter": "python",
   "pygments_lexer": "ipython3",
   "version": "3.12.3"
  }
 },
 "nbformat": 4,
 "nbformat_minor": 2
}
