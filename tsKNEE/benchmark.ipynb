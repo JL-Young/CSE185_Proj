{
 "cells": [
  {
   "cell_type": "code",
   "execution_count": 2,
   "metadata": {},
   "outputs": [],
   "source": [
    "# Benchmark Setup (please run this setup cell and corresponding data cells before benchmarks)\n",
    "\n",
    "import scanpy as sc\n",
    "import leidenalg\n",
    "import tsKNEE\n",
    "import os\n",
    "import subprocess\n",
    "\n",
    "### Set Input Data ###\n",
    "adata = sc.read_h5ad(\"../small_test_data/small_test_data1.h5ad\")\n",
    "# adata = sc.read_h5ad(\"../benchmark_data/benchmark_data.h5ad\")\n",
    "######################\n",
    "\n",
    "current_dir = os.path.abspath(os.getcwd())\n",
    "parent_dir = os.path.dirname(current_dir)\n",
    "path_to_memusg = os.path.join(parent_dir, 'memusg', 'memusg')\n",
    "os.chmod(path_to_memusg, 0o755)\n",
    "os.environ['PATH'] += os.pathsep + os.path.dirname(path_to_memusg)\n",
    "\n",
    "def run_memusg(command):\n",
    "    result = subprocess.run([path_to_memusg] + command.split(), capture_output=True, text=True)\n",
    "    print(result.stdout)\n",
    "    print(result.stderr)\n",
    "    if result.returncode != 0:\n",
    "        print(f\"Return code: {result.returncode}\")\n",
    "        raise RuntimeError(f\"Command failed with return code {result.returncode}\")\n",
    "    return result.stdout\n",
    "\n",
    "\n",
    "## Continuity acore benchmark setup\n",
    "import numpy as np\n",
    "from sklearn.neighbors import NearestNeighbors\n",
    "from sklearn.metrics import pairwise_distances\n",
    "\n",
    "def continuity_score(X_high, X_low, n_neighbors=5):\n",
    "    \"\"\"\n",
    "    Compute the continuity score of the low-dimensional embedding.\n",
    "\n",
    "    Parameters:\n",
    "    X_high : array-like, shape (n_samples, n_features)\n",
    "        High-dimensional data.\n",
    "    X_low : array-like, shape (n_samples, n_components)\n",
    "        Low-dimensional embedding.\n",
    "    n_neighbors : int, optional, default: 5\n",
    "        Number of nearest neighbors to consider.\n",
    "\n",
    "    Returns:\n",
    "    continuity : float\n",
    "        Continuity score.\n",
    "    \"\"\"\n",
    "    n_samples = X_high.shape[0]\n",
    "\n",
    "    # Find nearest neighbors in high-dimensional space\n",
    "    nbrs_high = NearestNeighbors(n_neighbors=n_neighbors + 1).fit(X_high)\n",
    "    distances_high, indices_high = nbrs_high.kneighbors(X_high)\n",
    "\n",
    "    # Find nearest neighbors in low-dimensional space\n",
    "    nbrs_low = NearestNeighbors(n_neighbors=n_neighbors + 1).fit(X_low)\n",
    "    distances_low, indices_low = nbrs_low.kneighbors(X_low)\n",
    "\n",
    "    # Remove self-indices (first column)\n",
    "    indices_high = indices_high[:, 1:]\n",
    "    indices_low = indices_low[:, 1:]\n",
    "\n",
    "    # Compute continuity score\n",
    "    continuity = 0\n",
    "    for i in range(n_samples):\n",
    "        intersection = len(set(indices_high[i]).intersection(set(indices_low[i])))\n",
    "        continuity += intersection / n_neighbors\n",
    "\n",
    "    continuity /= n_samples\n",
    "    return continuity"
   ]
  },
  {
   "cell_type": "code",
   "execution_count": 2,
   "metadata": {},
   "outputs": [],
   "source": [
    "# Prepare data for Compute Benchmark\n",
    "sc.pp.neighbors(adata, use_rep='X')\n",
    "sc.tl.leiden(adata)\n",
    "adata_file = 'adata.h5ad'\n",
    "adata.write(adata_file)"
   ]
  },
  {
   "cell_type": "code",
   "execution_count": null,
   "metadata": {},
   "outputs": [],
   "source": [
    "# Prepare data for Memory Benchmark\n",
    "adata_tsne = adata.copy()\n",
    "sc.tl.tsne(adata_tsne, use_rep='X')\n",
    "adata_tsne_file = 'adata_tsne.h5ad'\n",
    "adata_tsne.write(adata_tsne_file)\n",
    "\n",
    "adata_tsknee = adata.copy()\n",
    "tsKNEE.tsKNEE(adata_tsknee)\n",
    "adata_tsknee_file = 'adata_tsknee.h5ad'\n",
    "adata_tsknee.write(adata_tsknee_file)"
   ]
  },
  {
   "cell_type": "code",
   "execution_count": 3,
   "metadata": {},
   "outputs": [
    {
     "name": "stdout",
     "output_type": "stream",
     "text": [
      "# Compute Benchmark of Clustering\n",
      "tsKNEE\n"
     ]
    },
    {
     "ename": "NameError",
     "evalue": "name 'adata_file' is not defined",
     "output_type": "error",
     "traceback": [
      "\u001b[0;31m---------------------------------------------------------------------------\u001b[0m",
      "\u001b[0;31mNameError\u001b[0m                                 Traceback (most recent call last)",
      "\u001b[0;32m/tmp/ipykernel_2428/2943693120.py\u001b[0m in \u001b[0;36m<module>\u001b[0;34m\u001b[0m\n\u001b[1;32m      2\u001b[0m \u001b[0;34m\u001b[0m\u001b[0m\n\u001b[1;32m      3\u001b[0m \u001b[0mprint\u001b[0m\u001b[0;34m(\u001b[0m\u001b[0;34m'tsKNEE'\u001b[0m\u001b[0;34m)\u001b[0m\u001b[0;34m\u001b[0m\u001b[0;34m\u001b[0m\u001b[0m\n\u001b[0;32m----> 4\u001b[0;31m \u001b[0madata\u001b[0m \u001b[0;34m=\u001b[0m \u001b[0msc\u001b[0m\u001b[0;34m.\u001b[0m\u001b[0mread_h5ad\u001b[0m\u001b[0;34m(\u001b[0m\u001b[0madata_file\u001b[0m\u001b[0;34m)\u001b[0m\u001b[0;34m\u001b[0m\u001b[0;34m\u001b[0m\u001b[0m\n\u001b[0m\u001b[1;32m      5\u001b[0m \u001b[0mget_ipython\u001b[0m\u001b[0;34m(\u001b[0m\u001b[0;34m)\u001b[0m\u001b[0;34m.\u001b[0m\u001b[0mrun_line_magic\u001b[0m\u001b[0;34m(\u001b[0m\u001b[0;34m'time'\u001b[0m\u001b[0;34m,\u001b[0m \u001b[0;34m'x = tsKNEE.tsKNEE(adata)'\u001b[0m\u001b[0;34m)\u001b[0m\u001b[0;34m\u001b[0m\u001b[0;34m\u001b[0m\u001b[0m\n\u001b[1;32m      6\u001b[0m \u001b[0;34m\u001b[0m\u001b[0m\n",
      "\u001b[0;31mNameError\u001b[0m: name 'adata_file' is not defined"
     ]
    }
   ],
   "source": [
    "print('# Compute Benchmark of Dimensional Reduction')\n",
    "\n",
    "print('tsKNEE')\n",
    "adata = sc.read_h5ad(adata_file)\n",
    "%time x = tsKNEE.tsKNEE(adata)\n",
    "\n",
    "print('tSNE')\n",
    "adata = sc.read_h5ad(adata_file)\n",
    "%time sc.tl.tsne(adata, use_rep='X')"
   ]
  },
  {
   "cell_type": "code",
   "execution_count": 6,
   "metadata": {},
   "outputs": [
    {
     "name": "stdout",
     "output_type": "stream",
     "text": [
      "# Compute Benchmark of Plotting\n",
      "tsKNEE\n"
     ]
    },
    {
     "data": {
      "image/png": "[encoded data removed]",
      "text/plain": [
       "<Figure size 432x288 with 1 Axes>"
      ]
     },
     "metadata": {
      "needs_background": "light"
     },
     "output_type": "display_data"
    },
    {
     "name": "stdout",
     "output_type": "stream",
     "text": [
      "CPU times: user 72 ms, sys: 3.12 ms, total: 75.2 ms\n",
      "Wall time: 75 ms\n",
      "tSNE\n"
     ]
    },
    {
     "data": {
      "image/png": "[encoded data removed]",
      "text/plain": [
       "<Figure size 432x288 with 1 Axes>"
      ]
     },
     "metadata": {},
     "output_type": "display_data"
    },
    {
     "name": "stdout",
     "output_type": "stream",
     "text": [
      "CPU times: user 40.5 ms, sys: 1.13 ms, total: 41.6 ms\n",
      "Wall time: 41.4 ms\n"
     ]
    }
   ],
   "source": [
    "print('# Compute Benchmark of Plotting')\n",
    "\n",
    "print('tsKNEE')\n",
    "adata_tsknee = sc.read_h5ad(adata_tsknee_file)\n",
    "%time tsKNEE.tsKNEE_plot(adata_tsknee)\n",
    "\n",
    "print('tSNE')\n",
    "adata_tsne = sc.read_h5ad(adata_tsne_file)\n",
    "%time sc.pl.tsne(adata_tsne, color=['leiden'], legend_loc='on data', legend_fontsize=10, size=100)"
   ]
  },
  {
   "cell_type": "code",
   "execution_count": 5,
   "metadata": {},
   "outputs": [
    {
     "name": "stdout",
     "output_type": "stream",
     "text": [
      "# Memory Benchmark of Clustering\n",
      "tsKNEE\n",
      "\n",
      "memusg: vmpeak: 18140680 kb\n",
      "\n",
      "\n",
      "tSNE\n",
      "\n",
      "memusg: vmpeak: 18666376 kb\n",
      "\n",
      "\n"
     ]
    }
   ],
   "source": [
    "print('# Memory Benchmark of Dimensional Reduction')\n",
    "\n",
    "print('tsKNEE')\n",
    "tsknee_memusg_output = run_memusg(f'python -c \"import scanpy as sc; from tsKNEE import tsKNEE; adata = sc.read(\\'{adata_file}\\'); tsKNEE(adata)\"')\n",
    "print(tsknee_memusg_output)\n",
    "\n",
    "print('tSNE')\n",
    "tsne_memusg_output = run_memusg(f'python -c \"import scanpy as sc; adata = sc.read(\\'{adata_file}\\'); sc.tl.tsne(adata, use_rep=\\'X\\')\"')\n",
    "print(tsne_memusg_output)"
   ]
  },
  {
   "cell_type": "code",
   "execution_count": 7,
   "metadata": {},
   "outputs": [
    {
     "name": "stdout",
     "output_type": "stream",
     "text": [
      "# Memory Benchmark of Plotting\n",
      "tsKNEE\n",
      "Figure(640x480)\n",
      "\n",
      "memusg: vmpeak: 18272272 kb\n",
      "\n",
      "Figure(640x480)\n",
      "\n",
      "tSNE\n",
      "Figure(640x480)\n",
      "\n",
      "memusg: vmpeak: 18272352 kb\n",
      "\n",
      "Figure(640x480)\n",
      "\n"
     ]
    }
   ],
   "source": [
    "print('# Memory Benchmark of Plotting')\n",
    "\n",
    "print('tsKNEE')\n",
    "tsknee_memusg_output = run_memusg(f'python -c \"import scanpy as sc; from tsKNEE import tsKNEE_plot; adata_tsknee = sc.read(\\'{adata_tsknee_file}\\'); tsKNEE_plot(adata_tsknee)\"')\n",
    "print(tsknee_memusg_output)\n",
    "\n",
    "print('tSNE')\n",
    "tsne_memusg_output = run_memusg(f'python -c \"import scanpy as sc; adata_tsne = sc.read(\\'{adata_tsne_file}\\'); sc.pl.tsne(adata_tsne, color=[\\'leiden\\'], legend_loc=\\'on data\\', legend_fontsize=10, size=100)\"')\n",
    "print(tsne_memusg_output)"
   ]
  },
  {
   "cell_type": "code",
   "execution_count": 8,
   "metadata": {},
   "outputs": [
    {
     "name": "stdout",
     "output_type": "stream",
     "text": [
      "# Continuity Benchmark\n",
      "tsKNEE continuity: 0.5681159420289854\n",
      "tsne continuity: 0.23188405797101447\n"
     ]
    }
   ],
   "source": [
    "print('# Continuity Benchmark')\n",
    "\n",
    "adata_tsknee = sc.read_h5ad(adata_file)\n",
    "tsKNEE.tsKNEE(adata_tsknee)\n",
    "tsknee_continuity = continuity_score(adata_tsknee.X, adata_tsknee.obsm['X_tsne'], n_neighbors=5)\n",
    "print(f\"tsKNEE continuity: {tsknee_continuity}\")\n",
    "\n",
    "adata_tsne = sc.read_h5ad(adata_tsne_file)\n",
    "tsne_continuity = continuity_score(adata_tsne.X, adata_tsne.obsm['X_tsne'], n_neighbors=5)\n",
    "print(f\"tsne continuity: {tsne_continuity}\")"
   ]
  }
 ],
 "metadata": {
  "kernelspec": {
   "display_name": "Python 3 (ipykernel)",
   "language": "python",
   "name": "python3"
  },
  "language_info": {
   "codemirror_mode": {
    "name": "ipython",
    "version": 3
   },
   "file_extension": ".py",
   "mimetype": "text/x-python",
   "name": "python",
   "nbconvert_exporter": "python",
   "pygments_lexer": "ipython3",
   "version": "3.9.5"
  }
 },
 "nbformat": 4,
 "nbformat_minor": 2
}
