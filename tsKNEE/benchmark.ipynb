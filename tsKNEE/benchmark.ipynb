{
 "cells": [
  {
   "cell_type": "code",
   "execution_count": 1,
   "metadata": {},
   "outputs": [],
   "source": [
    "import tsKNEE \n",
    "import scanpy as sc\n",
    "import leidenalg"
   ]
  },
  {
   "cell_type": "code",
   "execution_count": 2,
   "metadata": {},
   "outputs": [],
   "source": [
    "adata = sc.read_h5ad(\"../test_data/test_data1.h5ad\")\n",
    "sc.pp.neighbors(adata, use_rep='X')\n",
    "sc.tl.leiden(adata)"
   ]
  },
  {
   "cell_type": "code",
   "execution_count": 3,
   "metadata": {},
   "outputs": [
    {
     "name": "stdout",
     "output_type": "stream",
     "text": [
      "Run Time Benchmark of Clustering\n",
      "tSNE\n",
      "WARNING: You’re trying to run this on 942 dimensions of `.X`, if you really want this, set `use_rep='X'`.\n",
      "         Falling back to preprocessing with `sc.pp.pca` and default params.\n",
      "CPU times: user 1.82 s, sys: 69.9 ms, total: 1.89 s\n",
      "Wall time: 272 ms\n",
      "tsKNEE\n",
      "CPU times: user 617 ms, sys: 6.41 ms, total: 624 ms\n",
      "Wall time: 601 ms\n"
     ]
    }
   ],
   "source": [
    "print('Run Time Benchmark of Clustering')\n",
    "print('tSNE')\n",
    "%time sc.tl.tsne(adata)\n",
    "print('tsKNEE')\n",
    "%time x = tsKNEE.tsKNEE(adata)"
   ]
  },
  {
   "cell_type": "code",
   "execution_count": 4,
   "metadata": {},
   "outputs": [],
   "source": [
    "import os\n",
    "pathToMem = os.path.abspath(\"memusg/memusg\")\n",
    "os.environ['PATH'] += os.pathsep + os.path.dirname(pathToMem)"
   ]
  },
  {
   "cell_type": "code",
   "execution_count": 5,
   "metadata": {},
   "outputs": [
    {
     "name": "stdout",
     "output_type": "stream",
     "text": [
      "Run Time Benchmark of Plotting\n",
      "tSNE\n",
      "/bin/bash: memusg: command not found\n",
      "tsKNEE\n",
      "/bin/bash: memusg: command not found\n"
     ]
    }
   ],
   "source": [
    "print('Run Time Benchmark of Plotting')\n",
    "print('tSNE')\n",
    "!memusg python -c \"import scanpy as sc; import your_data_loading_module; adata = your_data_loading_module.load_adata(); sc.pl.tsne(adata)\"\n",
    "print('tsKNEE')\n",
    "!memusg python -c \"import tsKNEE; import your_data_loading_module; adata = your_data_loading_module.load_adata(); tsKNEE.tsKNEE_plot(adata)\""
   ]
  },
  {
   "cell_type": "code",
   "execution_count": 6,
   "metadata": {},
   "outputs": [
    {
     "name": "stdout",
     "output_type": "stream",
     "text": [
      "Run Time Benchmark of Plotting\n",
      "tSNE\n",
      "/bin/bash: {path_to_mem}/memusg: No such file or directory\n",
      "tsKNEE\n",
      "/bin/bash: {path_to_mem}/memusg: No such file or directory\n"
     ]
    }
   ],
   "source": [
    "print('Run Time Benchmark of Plotting')\n",
    "\n",
    "# tSNE\n",
    "print('tSNE')\n",
    "!{path_to_mem}/memusg python -c \"import scanpy as sc; import your_data_loading_module; adata = your_data_loading_module.load_adata(); sc.pl.tsne(adata)\"\n",
    "\n",
    "# tsKNEE\n",
    "print('tsKNEE')\n",
    "!{path_to_mem}/memusg python -c \"import tsKNEE; import your_data_loading_module; adata = your_data_loading_module.load_adata(); tsKNEE.tsKNEE_plot(adata)\""
   ]
  },
  {
   "cell_type": "code",
   "execution_count": 2,
   "metadata": {},
   "outputs": [],
   "source": [
    "import numpy as np\n",
    "from sklearn.neighbors import NearestNeighbors\n",
    "from sklearn.metrics import pairwise_distances\n",
    "\n",
    "def continuity_score(X_high, X_low, n_neighbors=5):\n",
    "    \"\"\"\n",
    "    Compute the continuity score of the low-dimensional embedding.\n",
    "\n",
    "    Parameters:\n",
    "    X_high : array-like, shape (n_samples, n_features)\n",
    "        High-dimensional data.\n",
    "    X_low : array-like, shape (n_samples, n_components)\n",
    "        Low-dimensional embedding.\n",
    "    n_neighbors : int, optional, default: 5\n",
    "        Number of nearest neighbors to consider.\n",
    "\n",
    "    Returns:\n",
    "    continuity : float\n",
    "        Continuity score.\n",
    "    \"\"\"\n",
    "    n_samples = X_high.shape[0]\n",
    "\n",
    "    # Find nearest neighbors in high-dimensional space\n",
    "    nbrs_high = NearestNeighbors(n_neighbors=n_neighbors + 1).fit(X_high)\n",
    "    distances_high, indices_high = nbrs_high.kneighbors(X_high)\n",
    "\n",
    "    # Find nearest neighbors in low-dimensional space\n",
    "    nbrs_low = NearestNeighbors(n_neighbors=n_neighbors + 1).fit(X_low)\n",
    "    distances_low, indices_low = nbrs_low.kneighbors(X_low)\n",
    "\n",
    "    # Remove self-indices (first column)\n",
    "    indices_high = indices_high[:, 1:]\n",
    "    indices_low = indices_low[:, 1:]\n",
    "\n",
    "    # Compute continuity score\n",
    "    continuity = 0\n",
    "    for i in range(n_samples):\n",
    "        intersection = len(set(indices_high[i]).intersection(set(indices_low[i])))\n",
    "        continuity += intersection / n_neighbors\n",
    "\n",
    "    continuity /= n_samples\n",
    "    return continuity"
   ]
  },
  {
   "cell_type": "code",
   "execution_count": 10,
   "metadata": {},
   "outputs": [
    {
     "name": "stdout",
     "output_type": "stream",
     "text": [
      "WARNING: You’re trying to run this on 942 dimensions of `.X`, if you really want this, set `use_rep='X'`.\n",
      "         Falling back to preprocessing with `sc.pp.pca` and default params.\n"
     ]
    },
    {
     "name": "stdout",
     "output_type": "stream",
     "text": [
      "WARNING: You’re trying to run this on 942 dimensions of `.X`, if you really want this, set `use_rep='X'`.\n",
      "         Falling back to preprocessing with `sc.pp.pca` and default params.\n",
      "tsKNEE continuity: 0.6057971014492755\n",
      "tsne continuity: 0.2840579710144926\n"
     ]
    }
   ],
   "source": [
    "# Load data\n",
    "my_adata = sc.read_h5ad(\"../small_test_data/small_test_data1.h5ad\")\n",
    "sc.pp.neighbors(my_adata)\n",
    "sc.tl.leiden(my_adata)    \n",
    "\n",
    "tsne_adata = sc.read_h5ad(\"../small_test_data/small_test_data1.h5ad\")\n",
    "sc.pp.neighbors(tsne_adata)\n",
    "sc.tl.leiden(tsne_adata) \n",
    "\n",
    "# Compute t-SNE\n",
    "sc.tl.tsne(tsne_adata)\n",
    "tsKNEE.tsKNEE(my_adata)\n",
    "\n",
    "# Calculate continuity\n",
    "my_continuity = continuity_score(my_adata.X, my_adata.obsm['X_tsne'], n_neighbors=5)\n",
    "print(f\"tsKNEE continuity: {my_continuity}\")\n",
    "\n",
    "tsne_continuity = continuity_score(tsne_adata.X, tsne_adata.obsm['X_tsne'], n_neighbors=5)\n",
    "print(f\"tsne continuity: {tsne_continuity}\")"
   ]
  }
 ],
 "metadata": {
  "kernelspec": {
   "display_name": "Python 3 (ipykernel)",
   "language": "python",
   "name": "python3"
  },
  "language_info": {
   "codemirror_mode": {
    "name": "ipython",
    "version": 3
   },
   "file_extension": ".py",
   "mimetype": "text/x-python",
   "name": "python",
   "nbconvert_exporter": "python",
   "pygments_lexer": "ipython3",
   "version": "3.12.3"
  }
 },
 "nbformat": 4,
 "nbformat_minor": 2
}
