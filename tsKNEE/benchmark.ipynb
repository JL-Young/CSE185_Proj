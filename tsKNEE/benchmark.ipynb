{
 "cells": [
  {
   "cell_type": "code",
   "execution_count": 1,
   "metadata": {},
   "outputs": [],
   "source": [
    "import tsKNEE \n",
    "import scanpy as sc\n",
    "import leidenalg"
   ]
  },
  {
   "cell_type": "code",
   "execution_count": 3,
   "metadata": {},
   "outputs": [],
   "source": [
    "adata = sc.read_h5ad(\"../small_test_data/small_test_data1.h5ad\")\n",
    "sc.pp.neighbors(adata, use_rep='X')\n",
    "sc.tl.leiden(adata)"
   ]
  },
  {
   "cell_type": "code",
   "execution_count": 4,
   "metadata": {},
   "outputs": [
    {
     "name": "stdout",
     "output_type": "stream",
     "text": [
      "Run Time Benchmark of Clustering\n",
      "tSNE\n",
      "WARNING: You’re trying to run this on 942 dimensions of `.X`, if you really want this, set `use_rep='X'`.\n",
      "         Falling back to preprocessing with `sc.pp.pca` and default params.\n",
      "CPU times: user 3.07 s, sys: 98 ms, total: 3.17 s\n",
      "Wall time: 761 ms\n",
      "tsKNEE\n",
      "CPU times: user 844 ms, sys: 11.9 ms, total: 855 ms\n",
      "Wall time: 856 ms\n"
     ]
    }
   ],
   "source": [
    "print('Run Time Benchmark of Clustering')\n",
    "print('tSNE')\n",
    "%time sc.tl.tsne(adata)\n",
    "print('tsKNEE')\n",
    "%time x = tsKNEE.tsKNEE(adata)"
   ]
  },
  {
   "cell_type": "code",
   "execution_count": 4,
   "metadata": {},
   "outputs": [],
   "source": [
    "import os\n",
    "pathToMem = os.path.abspath(\"memusg/memusg\")\n",
    "os.environ['PATH'] += os.pathsep + os.path.dirname(pathToMem)"
   ]
  },
  {
   "cell_type": "code",
   "execution_count": 5,
   "metadata": {},
   "outputs": [
    {
     "name": "stdout",
     "output_type": "stream",
     "text": [
      "Run Time Benchmark of Plotting\n",
      "tSNE\n",
      "/bin/bash: memusg: command not found\n",
      "tsKNEE\n",
      "/bin/bash: memusg: command not found\n"
     ]
    }
   ],
   "source": [
    "print('Run Time Benchmark of Plotting')\n",
    "print('tSNE')\n",
    "!memusg python -c \"import scanpy as sc; import your_data_loading_module; adata = your_data_loading_module.load_adata(); sc.pl.tsne(adata)\"\n",
    "print('tsKNEE')\n",
    "!memusg python -c \"import tsKNEE; import your_data_loading_module; adata = your_data_loading_module.load_adata(); tsKNEE.tsKNEE_plot(adata)\""
   ]
  },
  {
   "cell_type": "code",
   "execution_count": 6,
   "metadata": {},
   "outputs": [
    {
     "name": "stdout",
     "output_type": "stream",
     "text": [
      "Run Time Benchmark of Plotting\n",
      "tSNE\n",
      "/bin/bash: {path_to_mem}/memusg: No such file or directory\n",
      "tsKNEE\n",
      "/bin/bash: {path_to_mem}/memusg: No such file or directory\n"
     ]
    }
   ],
   "source": [
    "print('Run Time Benchmark of Plotting')\n",
    "\n",
    "# tSNE\n",
    "print('tSNE')\n",
    "!{path_to_mem}/memusg python -c \"import scanpy as sc; import your_data_loading_module; adata = your_data_loading_module.load_adata(); sc.pl.tsne(adata)\"\n",
    "\n",
    "# tsKNEE\n",
    "print('tsKNEE')\n",
    "!{path_to_mem}/memusg python -c \"import tsKNEE; import your_data_loading_module; adata = your_data_loading_module.load_adata(); tsKNEE.tsKNEE_plot(adata)\""
   ]
  }
 ],
 "metadata": {
  "kernelspec": {
   "display_name": "Python 3 (ipykernel)",
   "language": "python",
   "name": "python3"
  },
  "language_info": {
   "codemirror_mode": {
    "name": "ipython",
    "version": 3
   },
   "file_extension": ".py",
   "mimetype": "text/x-python",
   "name": "python",
   "nbconvert_exporter": "python",
   "pygments_lexer": "ipython3",
   "version": "3.9.5"
  }
 },
 "nbformat": 4,
 "nbformat_minor": 2
}
